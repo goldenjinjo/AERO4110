{
 "cells": [
  {
   "cell_type": "code",
   "execution_count": 2,
   "id": "fedda272",
   "metadata": {},
   "outputs": [],
   "source": [
    "# Importing all needed libaries\n",
    "from __future__ import print_function\n",
    "from ipywidgets import interact, interactive, fixed, interact_manual,HBox, Label\n",
    "import ipywidgets as widgets\n",
    "from scipy.integrate import odeint as ode\n",
    "import matplotlib.pyplot as plt\n",
    "import numpy as np\n",
    "import math"
   ]
  },
  {
   "cell_type": "markdown",
   "id": "97cabbd2",
   "metadata": {},
   "source": []
  },
  {
   "cell_type": "code",
   "execution_count": 130,
   "id": "48ceb81b",
   "metadata": {},
   "outputs": [],
   "source": [
    "\"\"\"\n",
    "Variables\n",
    "\"\"\"\n",
    "g = 32.174 #ft/s^2\n",
    "\n",
    "W_max = 1030500 # lb\n",
    "rho_sl = 0.002377693 #slug/ft^3\n",
    "K = 0.055579171\n",
    "C_L_max = 5 #2.7198\n",
    "h_obstacle = 50 #ft\n",
    "T_max = 388000 # take off thrust\n",
    "mu = 0.05 #rolling resistance\n",
    "C_D0 = 0.015 #historical\n",
    "S_ref = 6891.60 #ft^2\n",
    "C_L_min = 2\n",
    "rho_cruise = 0.000891 #slug/ft^3 -> 30,000 ft\n",
    "C = 2.805*2.20462 # lb/s -> thrust specific fuel consumption\n",
    "cruise_alt = 30000 #ft\n",
    "mach_max = 0.75 # maximum mach number\n",
    "cruise_c = 990 #speed of sound at cruise\n",
    "V_min = 370*1.68781 #ft/s\n",
    "n=1.2 \n",
    "step_size=0.01"
   ]
  },
  {
   "cell_type": "code",
   "execution_count": 131,
   "id": "52513d68",
   "metadata": {},
   "outputs": [],
   "source": [
    "\"\"\"\n",
    "Functions\n",
    "\"\"\"\n",
    "\n",
    "def stall_vel(W, S,rho, C_L):\n",
    "    return np.sqrt( (2*W_max) / (rho*S*C_L) )\n",
    "\n",
    "def Lift(rho, V, C_L, S):\n",
    "    return 1/2 * rho * C_L * S * V**2\n",
    "\n",
    "def Drag(rho, V, S, C_D0, K, C_L):\n",
    "    return 1/2*rho*V**2* (C_D0 + K*C_L**2)\n",
    "\n",
    "\n",
    "\n",
    "\n",
    "\n",
    "### GROUND ROLL\n",
    "def ground_accel(W, T, D, L, mu):\n",
    "    return g / W * (T - D - mu*(W - L) )\n",
    "\n",
    "def ground_dist(T, W, S, mu, rho, C_L, C_D0, K, V_I, V_F):\n",
    "    \n",
    "    K_T = (T / W) - mu\n",
    "    K_A = (rho * ( mu*C_L - C_D0 - K*C_L**2 ) ) / ( 2 * ( W / S ) )\n",
    "    \n",
    "    log_factor = K_T + K_A*V_F**2\n",
    "    \n",
    "    return (1 / (2*g*K_A) )*np.log(log_factor / (K_T + K_A*V_I**2) ), K_T, K_A\n",
    "\n",
    "# Transition\n",
    "def Gamma(T, D, W):\n",
    "    return math.asin( (T - D) / W )\n",
    "\n",
    "\n",
    "\n",
    "### Steady, Level Flight. Cruise.\n",
    "\n",
    "# Eq 17.10 Raymer\n",
    "# Use this to determine optimal Cruise altitude\n",
    "def cruise_vel(rho, C_L, W, S):\n",
    "    return np.sqrt( (2 * W) / (rho*C_L * S))\n",
    "\n",
    "def thrust_to_weight(q, C_D0, W, S, K):\n",
    "    return q*C_D0 / (W / S) + (W / S) * (K / q)\n",
    "\n",
    "def W_dot(C, T):\n",
    "    return -C*T\n",
    "\n",
    "\n",
    "## Fuel Required:\n",
    "# C * T at the different stages of flight.\n",
    "# make sure range requirement is met.\n",
    "\n",
    "\n"
   ]
  },
  {
   "cell_type": "code",
   "execution_count": 116,
   "id": "0bc4aadc",
   "metadata": {},
   "outputs": [],
   "source": [
    "def Take_Off(T, W, S, mu, rho, C_L, C_D0, K, n=1.2):\n",
    "    \n",
    "    V_stall = stall_vel(W, S, rho, C_L)\n",
    "    V_to = 1.1*V_stall\n",
    "    V_trans = 1.15*V_stall\n",
    "    D_to = 1/2*rho*V_to**2* (C_D0 + K*C_L**2)\n",
    "    \n",
    "    S_G, K_T, K_A = ground_dist(T, W, S, mu, rho, C_L, C_D0, K, 0, V_to)\n",
    "    S_R = 3*V_to\n",
    "    \n",
    "    R_trans = V_trans**2 / (g * (n - 1))\n",
    "\n",
    "    gamma_climb = np.arcsin( (T - D_to) / W )\n",
    "\n",
    "    h_TR = R_trans*(1 - np.arccos(gamma_climb))\n",
    "\n",
    "    if h_TR.any() > h_obstacle:\n",
    "        S_TR = np.sqrt(R_trans**2 - (R_trans - h_obstacle)**2)\n",
    "    else:\n",
    "        S_TR = R_trans*np.arcsin(gamma_climb)\n",
    "\n",
    "\n",
    "    takeoff_distance = S_G + S_R + S_TR\n",
    "    \n",
    "    return takeoff_distance, S_G, S_R, S_TR, h_TR, gamma_climb, V_stall, V_to, V_trans, K_T, K_A\n",
    "\n",
    "\n",
    "\n",
    "\n",
    "def Take_Off_Interact(C_L_max, engine_num, W, S):\n",
    "    \n",
    "    T = T_max *engine_num/4\n",
    "\n",
    "    C_L_array = np.arange(C_L_min, C_L_max+step_size, step_size)\n",
    "    \n",
    "    plt.figure(figsize=(8,7))\n",
    "    plt.plot(C_L_array, Take_Off(T, W, S, mu, rho_sl, C_L_array, C_D0, K)[0], label='Total Distance')\n",
    "    plt.plot(C_L_array, Take_Off(T, W, S, mu, rho_sl, C_L_array, C_D0, K)[1], label='Ground Roll', color='b')\n",
    "    plt.plot(C_L_array, Take_Off(T, W, S, mu, rho_sl, C_L_array, C_D0, K)[3], label='Transition Distance', color='purple')\n",
    "    plt.plot(C_L_array, Take_Off(T, W, S, mu, rho_sl, C_L_array, C_D0, K)[2], label='Rotation Ground Roll Distance',color='black')\n",
    "    plt.xlabel('$C_L (-)$')\n",
    "    plt.ylabel('Take-off Distance (ft)')\n",
    "    plt.grid()\n",
    "    plt.legend()\n",
    "    #plt.plot(C_L_array, np.ones(len(C_L_array))*7000)\n",
    "    plt.axhline(y=7000,color='r',linestyle='--')\n",
    "    plt.annotate('7000 ft',[0.5, 7300])\n",
    "    \n",
    "    plt.figure(figsize=(8,7))\n",
    "    plt.plot(C_L_array, Take_Off(T, W, S, mu, rho_sl, C_L_array, C_D0, K)[7], color='r')\n",
    "    plt.xlabel('$C_L$ (-)')\n",
    "    plt.ylabel('Take-Off Velocity (ft/sec)')\n",
    "    plt.grid()\n",
    "    \n",
    "    plt.figure(figsize=(7,6))\n",
    "    plt.plot(C_L_array, np.degrees(Take_Off(T, W, S, mu, rho_sl, C_L_array, C_D0, K)[5]), color='r')\n",
    "    plt.xlabel('$C_L$ (-)')\n",
    "    plt.ylabel('Climb Angle (deg)')\n",
    "    plt.grid()\n",
    "\n",
    "    return None\n",
    "\n",
    "\n"
   ]
  },
  {
   "cell_type": "code",
   "execution_count": 140,
   "id": "f8b06109",
   "metadata": {},
   "outputs": [
    {
     "name": "stdout",
     "output_type": "stream",
     "text": [
      "max V:  439.91918521634545\n",
      "max range:  0.11009381799576436 nmi / lb\n",
      "velocity for max range:  6992.534660504799 kts\n",
      "Fuel Required:  634.1403916556027  lb\n"
     ]
    },
    {
     "data": {
      "text/plain": [
       "(array([397.97698583, 397.99610464, 398.01522407, ..., 668.88802266,\n",
       "        668.91504918, 668.94207642]),\n",
       " 668.9420764238715,\n",
       " 11802)"
      ]
     },
     "execution_count": 140,
     "metadata": {},
     "output_type": "execute_result"
    },
    {
     "data": {
      "image/png": "[encoded data removed]",
      "text/plain": [
       "<Figure size 576x504 with 1 Axes>"
      ]
     },
     "metadata": {
      "needs_background": "light"
     },
     "output_type": "display_data"
    }
   ],
   "source": [
    "# Equation 17.3 Raymer\n",
    "def Endurance(L, D, C, W_i, W_f):\n",
    "    return (L / D) * (1 / C) * np.log(W_i / W_f)\n",
    "\n",
    "\n",
    "# C = lb/s\n",
    "# V = ft/s\n",
    "# V/C = ft/lb\n",
    "# Equation  17.23, Raymer\n",
    "def Range(L, D, C, W_i, W_f, V):\n",
    "    return Endurance(L,D,C,W_i,W_f) * V\n",
    "\n",
    "\n",
    "### best range equations\n",
    "def Range_Parameters(W, S):\n",
    "    \n",
    "    V = np.sqrt((2*W)/(rho_cruise*S) * np.sqrt(3*K / C_D0))\n",
    "    D = 1/2 * rho_cruise * V**2 * S * (4/3 * C_D0)\n",
    "    C_L = np.sqrt(C_D0 / (3*K))\n",
    "    \n",
    "    return V, D, C_L\n",
    "\n",
    "\n",
    "# M = V/C, -> V = M*C\n",
    "V_max = cruise_c * mach_max\n",
    "\n",
    "\n",
    "range_req = 4800 # nmi\n",
    "\n",
    "print('max V: ',V_max / 1.68781)\n",
    "\n",
    "\n",
    "def Range_Interact(W_max, C_L, S, T):\n",
    "    \"\"\"\n",
    "    W_max = maximum weight\n",
    "    V = cruise velocity\n",
    "    C_L = coefficient of lift at zero AoA\n",
    "    S = wing span (no flaps)\n",
    "    T = thrust\n",
    "    \"\"\"\n",
    "    \n",
    "    W_i = W_max\n",
    "    W_f = W_max*0.6\n",
    "\n",
    "   \n",
    "    \n",
    "    \n",
    "    V_array = np.arange(V_min, V_max+step_size, step_size)\n",
    "    range_array = np.zeros_like(V_array)\n",
    "    L_array = np.zeros_like(V_array)\n",
    "    \n",
    "    for i in range(len(V_array)):\n",
    "        L_array[i] = Lift(rho_cruise, V_array[i], C_L, S)\n",
    "        range_array[i] = Range(L_array[i], T, C, W_i, W_f, V_array[i])\n",
    "\n",
    "    \n",
    "    max_range = np.max(range_array)\n",
    "    V_max_range = np.where(range_array == max_range)[0][0]\n",
    "    \n",
    "    min_fuel = 1.2 * range_req * (max_range*0.000164579) \n",
    "    \n",
    "    \n",
    "        \n",
    "    plt.figure(figsize=(8,7))\n",
    "    plt.plot(V_array /1.68781, range_array*0.000164579, color='r')\n",
    "    plt.xlabel('$Cruise Velocity $ (kts)')\n",
    "    plt.ylabel('Range (nmi / lb))')\n",
    "    plt.grid()\n",
    "    \n",
    "    print('max range: ',max_range*0.000164579, 'nmi / lb')\n",
    "    print('velocity for max range: ',V_max_range / 1.6878, 'kts')\n",
    "    print('Fuel Required: ',min_fuel, ' lb')\n",
    "    \n",
    "    \n",
    "    return range_array, max_range, V_max_range\n",
    "\n",
    "C_L = 2\n",
    "Range_Interact(W_max, C_L, S_ref, T_max*0.8)"
   ]
  },
  {
   "cell_type": "code",
   "execution_count": 125,
   "id": "148e975f",
   "metadata": {},
   "outputs": [
    {
     "data": {
      "application/vnd.jupyter.widget-view+json": {
       "model_id": "8f6544b352b049a2a379707fae2f4a64",
       "version_major": 2,
       "version_minor": 0
      },
      "text/plain": [
       "interactive(children=(FloatSlider(value=3.5, description='$C_{L_{max}}$', max=5.0, min=2.5, style=SliderStyle(…"
      ]
     },
     "metadata": {},
     "output_type": "display_data"
    },
    {
     "data": {
      "text/plain": [
       "<function __main__.Take_Off_Interact(C_L_max, engine_num, W, S)>"
      ]
     },
     "execution_count": 125,
     "metadata": {},
     "output_type": "execute_result"
    }
   ],
   "source": [
    "style = {'description_width': 'initial'}\n",
    "interact_manual(Take_Off_Interact,\n",
    "                C_L_max=widgets.FloatSlider(min=C_L_min+0.5, max=C_L_max,step=0.1,value=((C_L_min+C_L_max)/2),description='$C_{L_{max}}$',style=style),\n",
    "                engine_num=widgets.IntSlider(min=1, max=4,step=1,value=3, description= 'Engine Number',style=style),\n",
    "                W=widgets.FloatSlider(min=500000, max=1500000, step =100, value=W_max, description ='Take-Off Weight (lb)',style=style),\n",
    "                S=widgets.FloatSlider(min=1000, max=15000, step =10, value=S_ref, description ='Wing Area ($ft^2$)',style=style),\n",
    "               )"
   ]
  },
  {
   "cell_type": "code",
   "execution_count": null,
   "id": "479fb01d",
   "metadata": {},
   "outputs": [],
   "source": []
  },
  {
   "cell_type": "code",
   "execution_count": null,
   "id": "f62f6742",
   "metadata": {},
   "outputs": [],
   "source": []
  }
 ],
 "metadata": {
  "kernelspec": {
   "display_name": "Python 3 (ipykernel)",
   "language": "python",
   "name": "python3"
  },
  "language_info": {
   "codemirror_mode": {
    "name": "ipython",
    "version": 3
   },
   "file_extension": ".py",
   "mimetype": "text/x-python",
   "name": "python",
   "nbconvert_exporter": "python",
   "pygments_lexer": "ipython3",
   "version": "3.9.12"
  }
 },
 "nbformat": 4,
 "nbformat_minor": 5
}
