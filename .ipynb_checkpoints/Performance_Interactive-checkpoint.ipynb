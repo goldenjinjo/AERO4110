{
 "cells": [
  {
   "cell_type": "code",
   "execution_count": 2,
   "id": "fedda272",
   "metadata": {},
   "outputs": [],
   "source": [
    "# Importing all needed libaries\n",
    "from __future__ import print_function\n",
    "from ipywidgets import interact, interactive, fixed, interact_manual,HBox, Label\n",
    "import ipywidgets as widgets\n",
    "from scipy.integrate import odeint as ode\n",
    "import matplotlib.pyplot as plt\n",
    "import numpy as np\n",
    "import math"
   ]
  },
  {
   "cell_type": "markdown",
   "id": "7a84e56c",
   "metadata": {},
   "source": []
  },
  {
   "cell_type": "code",
   "execution_count": 143,
   "id": "d9c17206",
   "metadata": {},
   "outputs": [],
   "source": [
    "\"\"\"\n",
    "Variables\n",
    "\"\"\"\n",
    "g = 32.174 #ft/s^2\n",
    "\n",
    "W_max = 1030500 # lb\n",
    "rho_sl = 0.002377693 #slug/ft^3\n",
    "K = 0.055579171\n",
    "C_L_max = 5 #2.7198\n",
    "h_obstacle = 50 #ft\n",
    "T_max = 388000 # take off thrust\n",
    "T_cont = 332400 # maximum cont. thrust\n",
    "mu = 0.05 #rolling resistance\n",
    "C_D0 = 0.015 #historical\n",
    "S_ref = 6891.60 #ft^2\n",
    "C_L_min = 2\n",
    "rho_cruise = 0.000891 #slug/ft^3 -> 30,000 ft\n",
    "C = 2.805*2.20462 # lb/s -> thrust specific fuel consumption\n",
    "cruise_alt = 30000 #ft\n",
    "mach_max = 0.75 # maximum mach number\n",
    "cruise_c = 990 #speed of sound at cruise\n",
    "V_min = 370*1.68781 #ft/s\n",
    "n=1.2 \n",
    "step_size=0.01"
   ]
  },
  {
   "cell_type": "code",
   "execution_count": 185,
   "id": "52513d68",
   "metadata": {},
   "outputs": [],
   "source": [
    "\"\"\"\n",
    "Functions\n",
    "\"\"\"\n",
    "\n",
    "def stall_vel(W, S,rho, C_L):\n",
    "    return np.sqrt( (2*W) / (rho*S*C_L) )\n",
    "\n",
    "def Lift(rho, V, C_L, S):\n",
    "    return 1/2 * rho * C_L * S * V**2\n",
    "\n",
    "def Drag(rho, V, S, C_D0, K, C_L):\n",
    "    return 1/2*rho*V**2* S * (C_D0 + K*C_L**2)\n",
    "\n",
    "\n",
    "\n",
    "\n",
    "\n",
    "### GROUND ROLL\n",
    "def ground_accel(W, T, D, L, mu):\n",
    "    return g / W * (T - D - mu*(W - L) )\n",
    "\n",
    "def ground_dist(T, W, S, mu, rho, C_L, C_D0, K, V_I, V_F):\n",
    "    \n",
    "    K_T = (T / W) - mu\n",
    "    K_A = (rho * ( mu*C_L - C_D0 - K*C_L**2 ) ) / ( 2 * ( W / S ) )\n",
    "    \n",
    "    log_factor = K_T + K_A*V_F**2\n",
    "    \n",
    "    return (1 / (2*g*K_A) )*np.log(log_factor / (K_T + K_A*V_I**2) ), K_T, K_A\n",
    "\n",
    "# Transition\n",
    "def Gamma(T, D, W):\n",
    "    return math.asin( (T - D) / W )\n",
    "\n",
    "\n",
    "\n",
    "### Steady, Level Flight. Cruise.\n",
    "\n",
    "# Eq 17.10 Raymer\n",
    "# Use this to determine optimal Cruise altitude\n",
    "def cruise_vel(rho, C_L, W, S):\n",
    "    return np.sqrt( (2 * W) / (rho*C_L * S))\n",
    "\n",
    "def thrust_to_weight(q, C_D0, W, S, K):\n",
    "    return q*C_D0 / (W / S) + (W / S) * (K / q)\n",
    "\n",
    "def W_dot(C, T):\n",
    "    return -C*T\n",
    "\n",
    "\n",
    "## Fuel Required:\n",
    "# C * T at the different stages of flight.\n",
    "# make sure range requirement is met.\n",
    "\n",
    "\n"
   ]
  },
  {
   "cell_type": "code",
   "execution_count": 186,
   "id": "8a879f80",
   "metadata": {},
   "outputs": [],
   "source": [
    "def Take_Off(T, W, S, mu, rho, C_L, C_D0, K, n=1.2):\n",
    "    \n",
    "    V_stall = stall_vel(W, S, rho, C_L)\n",
    "    V_to = 1.1*V_stall\n",
    "    V_trans = 1.15*V_stall\n",
    "    D_to = 1/2*rho*V_to**2* (C_D0 + K*C_L**2)\n",
    "    \n",
    "    S_G, K_T, K_A = ground_dist(T, W, S, mu, rho, C_L, C_D0, K, 0, V_to)\n",
    "    S_R = 3*V_to\n",
    "    \n",
    "    R_trans = V_trans**2 / (g * (n - 1))\n",
    "\n",
    "    gamma_climb = np.arcsin( (T - D_to) / W )\n",
    "\n",
    "    h_TR = R_trans*(1 - np.arccos(gamma_climb))\n",
    "\n",
    "    if h_TR.any() > h_obstacle:\n",
    "        S_TR = np.sqrt(R_trans**2 - (R_trans - h_obstacle)**2)\n",
    "    else:\n",
    "        S_TR = R_trans*np.arcsin(gamma_climb)\n",
    "\n",
    "\n",
    "    takeoff_distance = S_G + S_R + S_TR\n",
    "    \n",
    "    return takeoff_distance, S_G, S_R, S_TR, h_TR, gamma_climb, V_stall, V_to, V_trans, K_T, K_A\n",
    "\n",
    "\n",
    "\n",
    "\n",
    "def Take_Off_Interact(C_L_max, engine_num, W, S):\n",
    "    \n",
    "    T = T_max *engine_num/4\n",
    "\n",
    "    C_L_array = np.arange(C_L_min, C_L_max+step_size, step_size)\n",
    "    \n",
    "    plt.figure(figsize=(8,7))\n",
    "    plt.plot(C_L_array, Take_Off(T, W, S, mu, rho_sl, C_L_array, C_D0, K)[0], label='Total Distance')\n",
    "    plt.plot(C_L_array, Take_Off(T, W, S, mu, rho_sl, C_L_array, C_D0, K)[1], label='Ground Roll', color='b')\n",
    "    plt.plot(C_L_array, Take_Off(T, W, S, mu, rho_sl, C_L_array, C_D0, K)[3], label='Transition Distance', color='purple')\n",
    "    plt.plot(C_L_array, Take_Off(T, W, S, mu, rho_sl, C_L_array, C_D0, K)[2], label='Rotation Ground Roll Distance',color='black')\n",
    "    plt.xlabel('$C_L (-)$')\n",
    "    plt.ylabel('Take-off Distance (ft)')\n",
    "    plt.grid()\n",
    "    plt.legend()\n",
    "    #plt.plot(C_L_array, np.ones(len(C_L_array))*7000)\n",
    "    plt.axhline(y=7000,color='r',linestyle='--')\n",
    "    plt.annotate('7000 ft',[0.5, 7300])\n",
    "    \n",
    "    plt.figure(figsize=(8,7))\n",
    "    plt.plot(C_L_array, Take_Off(T, W, S, mu, rho_sl, C_L_array, C_D0, K)[7], color='r')\n",
    "    plt.xlabel('$C_L$ (-)')\n",
    "    plt.ylabel('Take-Off Velocity (ft/sec)')\n",
    "    plt.grid()\n",
    "    \n",
    "    plt.figure(figsize=(7,6))\n",
    "    plt.plot(C_L_array, np.degrees(Take_Off(T, W, S, mu, rho_sl, C_L_array, C_D0, K)[5]), color='r')\n",
    "    plt.xlabel('$C_L$ (-)')\n",
    "    plt.ylabel('Climb Angle (deg)')\n",
    "    plt.grid()\n",
    "\n",
    "    return None\n",
    "\n",
    "\n"
   ]
  },
  {
   "cell_type": "code",
   "execution_count": 188,
   "id": "0356807b",
   "metadata": {},
   "outputs": [
    {
     "name": "stdout",
     "output_type": "stream",
     "text": [
      "max V:  439.91918521634545\n",
      "max range:  0.16731091041483429 nmi / lb\n",
      "velocity for max range:  6992.534660504799 kts\n",
      "Fuel Required:  34426.92401660197  lb\n",
      "Lift Array:  [1021587.55556667 1021620.2733436  1021652.99164443 ... 1444128.70722842\n",
      " 1444167.60711975 1444206.50753498]\n",
      "Drag Array:  [61636.45451462 61638.42850868 61640.40253435 ... 87130.04861043\n",
      " 87132.39559613 87134.74261344]\n",
      "1030500\n",
      "332400\n",
      "2.0459727777777776\n"
     ]
    },
    {
     "data": {
      "image/png": "[encoded data removed]",
      "text/plain": [
       "<Figure size 576x504 with 1 Axes>"
      ]
     },
     "metadata": {
      "needs_background": "light"
     },
     "output_type": "display_data"
    }
   ],
   "source": [
    "# Equation 17.3 Raymer\n",
    "def Endurance(L, D, C, W_i, W_f):\n",
    "    return (L / D) * (1 / C) * np.log(W_i / W_f)\n",
    "\n",
    "\n",
    "# C = lb/s\n",
    "# V = ft/s\n",
    "# V/C = ft/lb\n",
    "# Equation  17.23, Raymer\n",
    "def Range(L, D, C, W_i, W_f, V):\n",
    "    return Endurance(L,D,C,W_i,W_f) * V\n",
    "\n",
    "\n",
    "### best range equations\n",
    "def Range_Parameters(W, S):\n",
    "    \n",
    "    V = np.sqrt((2*W)/(rho_cruise*S) * np.sqrt(3*K / C_D0))\n",
    "    D = 1/2 * rho_cruise * V**2 * S * (4/3 * C_D0)\n",
    "    C_L = np.sqrt(C_D0 / (3*K))\n",
    "    \n",
    "    return V, D, C_L\n",
    "\n",
    "\n",
    "# M = V/C, -> V = M*C\n",
    "V_max = cruise_c * mach_max\n",
    "\n",
    "\n",
    "range_req = 4800 # nmi\n",
    "\n",
    "print('max V: ',V_max / 1.68781)\n",
    "\n",
    "\n",
    "def Range_Interact(W_max, C_L, S, T):\n",
    "    \"\"\"\n",
    "    W_max = maximum weight\n",
    "    V = cruise velocity\n",
    "    C_L = coefficient of lift at zero AoA\n",
    "    S = wing span (no flaps)\n",
    "    T = thrust\n",
    "    \"\"\"\n",
    "    \n",
    "    W_i = W_max\n",
    "    W_f = W_max*0.6\n",
    "\n",
    "\n",
    "    \n",
    "    \n",
    "    V_array = np.arange(V_min, V_max+step_size, step_size)\n",
    "    range_array = np.zeros_like(V_array)\n",
    "    L_array = np.zeros_like(V_array)\n",
    "    D_array = np.zeros_like(V_array)\n",
    "    \n",
    "    for i in range(len(V_array)):\n",
    "        L_array[i] = Lift(rho_cruise, V_array[i], C_L, S)\n",
    "        D_array[i] = Drag(rho_cruise, V_array[i], S, C_D0, K, C_L)\n",
    "        range_array[i] = Range(L_array[i], T, C, W_i, W_f, V_array[i])\n",
    "\n",
    "    \n",
    "    max_range = np.max(range_array)\n",
    "    V_max_range = np.where(range_array == max_range)[0][0]\n",
    "    \n",
    "    \n",
    "    \n",
    "    min_fuel = 1.2 * range_req / (max_range*0.000164579) \n",
    "    \n",
    "    \n",
    "        \n",
    "    plt.figure(figsize=(8,7))\n",
    "    plt.plot(V_array /1.68781, range_array*0.000164579, color='r')\n",
    "    plt.xlabel('$Cruise Velocity $ (kts)')\n",
    "    plt.ylabel('Range (nmi / lb))')\n",
    "    plt.grid()\n",
    "    \n",
    "    print('max range: ',max_range*0.000164579, 'nmi / lb')\n",
    "    print('velocity for max range: ',V_max_range / 1.6878, 'kts')\n",
    "    print('Fuel Required: ',min_fuel, ' lb')\n",
    "    \n",
    "    print('Lift Array: ',L_array)\n",
    "    print('Drag Array: ',D_array)\n",
    "    \n",
    "    return range_array, max_range, V_max_range\n",
    "\n",
    "C_L = 0.7\n",
    "Range_Interact(W_max, C_L, 8400, 87134)\n",
    "print(W_max)\n",
    "print(T_cont)\n",
    "\n",
    "CC = 0.478*(61636/4) / 3600\n",
    "print(CC)"
   ]
  },
  {
   "cell_type": "code",
   "execution_count": 195,
   "id": "daf403ee",
   "metadata": {},
   "outputs": [
    {
     "name": "stdout",
     "output_type": "stream",
     "text": [
      "283.82454336738414\n",
      "3.066979151743239\n",
      "244.50949371224883\n"
     ]
    }
   ],
   "source": [
    "### Loiter Endurance\n",
    "\n",
    "# Optimal velocity, is the velocity that minimises thrust/drag.\n",
    "\n",
    "def loiter_vel(W, S, rho):\n",
    "    return np.sqrt((2*W)/(rho*S)*np.sqrt(K/C_D0) )\n",
    "\n",
    "V_loiter = loiter_vel(W_max*0.7, S_ref, 17.56e-4)\n",
    "\n",
    "def min_drag(V, S):\n",
    "    return C_D0 * rho_cruise * V**2\n",
    "\n",
    "V_cruise_min = stall_vel(W_max*0.7, S_ref,17.56e-4, 0.7)\n",
    "D_min = min_drag(V_loiter, S_ref)\n",
    "\n",
    "print(V_loiter / 1.6878)\n",
    "print(D_min)\n",
    "print(V_cruise_min / 1.6878)"
   ]
  },
  {
   "cell_type": "code",
   "execution_count": 201,
   "id": "366c9bd3",
   "metadata": {},
   "outputs": [
    {
     "name": "stdout",
     "output_type": "stream",
     "text": [
      "1562.4857617126704\n"
     ]
    }
   ],
   "source": [
    "## Climb Optimisation\n",
    "\n",
    "def climb_vel(W, S, T, rho):\n",
    "    TW = T / W #thrust to weight ratio\n",
    "    \n",
    "    return np.sqrt( W / (S*3*rho*C_D0) * (TW + np.sqrt(TW)**2 + 12*C_D0*K) )\n",
    "\n",
    "V_climb = climb_vel(W_max*0.95, S_ref, T_cont, rho_cruise)\n",
    "\n",
    "print(V_climb)"
   ]
  },
  {
   "cell_type": "code",
   "execution_count": 200,
   "id": "148e975f",
   "metadata": {},
   "outputs": [
    {
     "data": {
      "application/vnd.jupyter.widget-view+json": {
       "model_id": "76e946d341ef486abb87b062dc7a470d",
       "version_major": 2,
       "version_minor": 0
      },
      "text/plain": [
       "interactive(children=(FloatSlider(value=3.5, description='$C_{L_{max}}$', max=5.0, min=2.5, style=SliderStyle(…"
      ]
     },
     "metadata": {},
     "output_type": "display_data"
    },
    {
     "data": {
      "text/plain": [
       "<function __main__.Take_Off_Interact(C_L_max, engine_num, W, S)>"
      ]
     },
     "execution_count": 200,
     "metadata": {},
     "output_type": "execute_result"
    }
   ],
   "source": [
    "style = {'description_width': 'initial'}\n",
    "interact_manual(Take_Off_Interact,\n",
    "                C_L_max=widgets.FloatSlider(min=C_L_min+0.5, max=C_L_max,step=0.1,value=((C_L_min+C_L_max)/2),description='$C_{L_{max}}$',style=style),\n",
    "                engine_num=widgets.IntSlider(min=1, max=4,step=1,value=3, description= 'Engine Number',style=style),\n",
    "                W=widgets.FloatSlider(min=500000, max=1500000, step =100, value=W_max, description ='Take-Off Weight (lb)',style=style),\n",
    "                S=widgets.FloatSlider(min=1000, max=15000, step =10, value=S_ref, description ='Wing Area ($ft^2$)',style=style),\n",
    "               )"
   ]
  },
  {
   "cell_type": "code",
   "execution_count": null,
   "id": "479fb01d",
   "metadata": {},
   "outputs": [],
   "source": []
  },
  {
   "cell_type": "code",
   "execution_count": null,
   "id": "08a76bf5",
   "metadata": {},
   "outputs": [],
   "source": []
  }
 ],
 "metadata": {
  "kernelspec": {
   "display_name": "Python 3 (ipykernel)",
   "language": "python",
   "name": "python3"
  },
  "language_info": {
   "codemirror_mode": {
    "name": "ipython",
    "version": 3
   },
   "file_extension": ".py",
   "mimetype": "text/x-python",
   "name": "python",
   "nbconvert_exporter": "python",
   "pygments_lexer": "ipython3",
   "version": "3.9.12"
  }
 },
 "nbformat": 4,
 "nbformat_minor": 5
}
